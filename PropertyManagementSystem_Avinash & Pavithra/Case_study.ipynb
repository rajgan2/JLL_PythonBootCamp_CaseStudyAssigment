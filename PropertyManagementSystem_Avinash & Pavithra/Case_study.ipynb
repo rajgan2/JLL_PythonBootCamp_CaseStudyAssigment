{
 "cells": [
  {
   "cell_type": "code",
   "execution_count": 58,
   "id": "a50cdf73-66bc-41ed-9de7-3cf823716e36",
   "metadata": {
    "tags": []
   },
   "outputs": [],
   "source": [
    "\"\"\"Property Class:\n",
    "    * The Property class should have attributes like property ID, address, number of bedrooms, number of bathrooms, monthly rent, and status (e.g., vacant, occupied).\n",
    "    * Implement appropriate methods to get and set these attributes.\n",
    "\"\"\"\n",
    "\n",
    "\n",
    "class Property :\n",
    "    \n",
    "    count = 0 \n",
    "    \n",
    "    def __init__(self, property_id, address, No_of_bedrooms, Rent, Status) :\n",
    "        self.property_id = property_id [:10] # propert_id should be 10 in characters \n",
    "        self.address = address\n",
    "        self.No_of_bedrooms = No_of_bedrooms\n",
    "        self.Rent = Rent\n",
    "        self.Status = Status\n",
    "        Property.count += 1\n",
    "    \n",
    "# to display the number of property lists available\n",
    "    def displayCount(self) :\n",
    "        print(\"Total Property : %d\" % Property.count)\n",
    "        \n",
    "#to display the info of a property present\n",
    "    def displayProperty(self) :\n",
    "        print( {\n",
    "            \"property_id\": self.property_id,\n",
    "            \"address\": self.address,\n",
    "            \"No_of_bedrooms\": self.No_of_bedrooms,\n",
    "            \"Rent\": self.Rent,\n",
    "            \"Status\": self.Status\n",
    "        })\n",
    "        \n",
    "# to get the details of the property - get\n",
    "# to update the attributes of the property - set\n",
    "\n",
    "    def get_property_id(self):\n",
    "        return str(self.property_id)\n",
    "\n",
    "    def get_address(self):\n",
    "        return self.address\n",
    "\n",
    "    def set_address(self, address):\n",
    "        self.address = address\n",
    "\n",
    "    def get_No_of_bedrooms(self):\n",
    "        return self.No_of_bedrooms\n",
    "\n",
    "    def get_Rent(self):\n",
    "        return self.Rent\n",
    "\n",
    "    def set_Rent(self, Rent):\n",
    "        self.Rent = Rent\n",
    "\n",
    "    def get_status(self):\n",
    "        return self.Status\n",
    "    \n",
    "    def set_status(self, Status):\n",
    "        self.Status = Status\n",
    "        \n",
    "def get_new_properties():\n",
    "    property_id = input(\"Enter Property ID: \")\n",
    "    address = input(\"Enter Address: \")\n",
    "    no_of_bedrooms = input(\"Enter No_of_bedrooms: \")\n",
    "    Rent = input(\"Enter Rent: \")\n",
    "    Status = input(\"Enter Status: \")\n",
    "    return Tenant(property_id, address,no_of_bedrooms, Rent, Status)"
   ]
  },
  {
   "cell_type": "code",
   "execution_count": 59,
   "id": "1c461bf8-472a-450d-ae0a-cde70ef0c0fd",
   "metadata": {
    "tags": []
   },
   "outputs": [
    {
     "name": "stdout",
     "output_type": "stream",
     "text": [
      "{'property_id': 'PROPERTY1', 'address': 'No.114, LM NAGAR', 'No_of_bedrooms': 4, 'Rent': 10000, 'Status': 'Occupied'}\n",
      "Total Property : 1\n"
     ]
    }
   ],
   "source": [
    "prop1= Property(\"PROPERTY1\",\"No.114, LM NAGAR\",4,10000,\"Occupied\")\n",
    "\n",
    "prop1.displayProperty()\n",
    "\n",
    "prop1.displayCount()"
   ]
  },
  {
   "cell_type": "code",
   "execution_count": 61,
   "id": "f7af3d17-f22a-4a3e-a8d2-b259303bec32",
   "metadata": {
    "tags": []
   },
   "outputs": [
    {
     "name": "stdout",
     "output_type": "stream",
     "text": [
      "{'property_id': 'PROPERTY2', 'address': 'No.114, LM NAGAR', 'No_of_bedrooms': 5, 'Rent': 10000, 'Status': 'Occupied'}\n",
      "Total Property : 3\n",
      "{'property_id': 'PROPERTY2', 'address': 'No.115, LM NAGAR', 'No_of_bedrooms': 5, 'Rent': 10000, 'Status': 'Vacant'}\n"
     ]
    }
   ],
   "source": [
    "prop2= Property(\"PROPERTY2\",\"No.114, LM NAGAR\",5,10000,\"Occupied\")\n",
    "\n",
    "prop2.displayProperty()\n",
    "\n",
    "prop2.displayCount()\n",
    "\n",
    "prop2.set_status(\"Vacant\")\n",
    "\n",
    "prop2.set_address(\"No.115, LM NAGAR\")\n",
    "\n",
    "prop2.displayProperty()"
   ]
  },
  {
   "cell_type": "code",
   "execution_count": 63,
   "id": "256f2f25-548a-4d89-a2ac-e6ae90976a74",
   "metadata": {
    "tags": []
   },
   "outputs": [],
   "source": [
    "\"\"\"\n",
    "Tenant Class:\n",
    "    * The Tenant class should have attributes like tenant ID, name, contact information, and the property they are currently renting (if any).\n",
    "    * Implement methods to associate tenants with properties and handle tenant details.\n",
    "\"\"\"\n",
    "\n",
    "class Tenant():\n",
    "    def __init__(self, tenant_id, property_id, tenant_name, contact_phone, email):\n",
    "        self.property_id=property_id\n",
    "        self.tenant_id = tenant_id\n",
    "        self.tenant_name = tenant_name\n",
    "        self.contact_phone = contact_phone\n",
    "        self.email = email\n",
    "\n",
    "    # Get tenant details\n",
    "    def get_tenant_id(self):\n",
    "        return self.tenant_id\n",
    "\n",
    "    def get_tenant_name(self):\n",
    "        return self.tenant_name\n",
    "\n",
    "    def get_contact_phone(self):\n",
    "        return self.contact_phone\n",
    "\n",
    "    def get_email(self):\n",
    "        return self.email\n",
    "\n",
    "    def get_property_id(self):\n",
    "        return self.property_id\n",
    "\n",
    "    # Update tenant details\n",
    "    def set_tenant_id(self, tenant_id):\n",
    "        self.tenant_id = tenant_id\n",
    "\n",
    "    def set_tenant_name(self, tenant_name):\n",
    "        self.tenant_name = tenant_name\n",
    "\n",
    "    def set_contact_phone(self, contact_phone):\n",
    "        self.contact_phone = contact_phone\n",
    "\n",
    "    def set_email(self, email):\n",
    "        self.email = email\n",
    "\n",
    "    def set_property_id(self, property_id):\n",
    "        self.property_id = property_id\n",
    "\n",
    "    def display_tenant(self) :\n",
    "        print({\"property_id\" : self.property_id,\n",
    "               \"tenant_id\" : self.tenant_id, \n",
    "               \"tenant_name\" : self.tenant_name, \n",
    "               \"contact_phone\" : self.contact_phone, \n",
    "               \"email\" : self.email}\n",
    "             )          \n",
    "            \n",
    "# method to add new tenants \n",
    "def get_new_tenants():\n",
    "    tenant_id = input(\"Enter Tenant ID: \")\n",
    "    property_id = input(\"Enter Property ID: \")\n",
    "    tenant_name = input(\"Enter Name: \")\n",
    "    contact_phone = input(\"Enter Phone: \")\n",
    "    email = input(\"Enter Email: \")\n",
    "    return Tenant(tenant_id, property_id,tenant_name, contact_phone, email)\n"
   ]
  },
  {
   "cell_type": "code",
   "execution_count": 64,
   "id": "35f802f6-b35e-493a-ab19-ae366b216c0a",
   "metadata": {
    "tags": []
   },
   "outputs": [
    {
     "name": "stdout",
     "output_type": "stream",
     "text": [
      "{'property_id': 'PROPERTY1', 'tenant_id': 'TENANT1', 'tenant_name': 'Tom', 'contact_phone': 11223344556, 'email': 'nekjbjb'}\n"
     ]
    }
   ],
   "source": [
    "prop1t= Tenant(\"TENANT1\",\"PROPERTY1\",\"Tom\",11223344556,\"nekjbjb\")\n",
    "\n",
    "prop1t.display_tenant()\n",
    "\n"
   ]
  },
  {
   "cell_type": "code",
   "execution_count": 71,
   "id": "a21f01e0-26f6-4b0c-815d-9ba0d4c30e6b",
   "metadata": {
    "tags": []
   },
   "outputs": [],
   "source": [
    "\"\"\"\n",
    "Rental Class:\n",
    "    * The Rental class should represent rental transactions, including attributes like rental ID, tenant ID, property ID, rental start date, and rental end date.\n",
    "    * Implement methods to record new rentals and calculate rental durations.\n",
    "\n",
    "\"\"\"\n",
    "class Rental:\n",
    "    def __init__(self, rental_id, tenant_id, property_id, rental_start_date, rental_end_date):\n",
    "        self.rental_id = rental_id\n",
    "        self.tenant_id = tenant_id\n",
    "        self.property_id = property_id\n",
    "        self.rental_start_date = rental_start_date\n",
    "        self.rental_end_date = rental_end_date\n",
    "\n",
    "\n",
    "    # Get Rent details\n",
    "    def get_rental_id(self):\n",
    "        return self.rental_id\n",
    "\n",
    "    def get_tenant_id(self):\n",
    "        return self.tenant_id\n",
    "\n",
    "    def get_property_id(self):\n",
    "        return self.property_id\n",
    "\n",
    "    def get_rental_start_date(self):\n",
    "        return self.rental_start_date\n",
    "\n",
    "    def get_rental_end_date(self):\n",
    "        return self.rental_end_date\n",
    "\n",
    "    # Update Rent details\n",
    "    def set_rental_id(self, rental_id):\n",
    "        self.rental_id = rental_id\n",
    "\n",
    "    def set_tenant_id(self, tenant_id):\n",
    "        self.tenant_id = tenant_id\n",
    "\n",
    "    def set_property_id(self, property_id):\n",
    "        self.property_id = property_id\n",
    "\n",
    "    def set_rental_start_date(self, rental_start_date):\n",
    "        self.rental_start_date = rental_start_date\n",
    "\n",
    "    def set_rental_end_date(self, rental_end_date):\n",
    "        self.rental_end_date = rental_end_date\n",
    "\n",
    "\n",
    "       \n"
   ]
  },
  {
   "cell_type": "code",
   "execution_count": 73,
   "id": "9de88f82-f8e1-45f6-ac9d-5f12663a93be",
   "metadata": {
    "tags": []
   },
   "outputs": [
    {
     "name": "stdout",
     "output_type": "stream",
     "text": [
      "  rental_id tenant_id property_id rental_start_date rental_end_date  \\\n",
      "0     RENT1   TENANT1   PROPERTY1        12/31/2021        1/1/2022   \n",
      "1     RENT2   TENANT2   PROPERTY2          1/1/2022        1/2/2022   \n",
      "2     RENT3   TENANT3   PROPERTY3          1/2/2022        1/3/2022   \n",
      "3     RENT4   TENANT4   PROPERTY5          1/3/2022        1/4/2022   \n",
      "4     RENT5   TENANT5   PROPERTY6          1/3/2022        1/4/2022   \n",
      "\n",
      "  PAYMENT_STATUS  \n",
      "0           Paid  \n",
      "1           Paid  \n",
      "2       Not Paid  \n",
      "3           Paid  \n",
      "4           Paid  \n",
      " PAYMENT_STATUS : Paid for TENANT TENANT1\n"
     ]
    }
   ],
   "source": [
    "import csv\n",
    "\n",
    "import pandas as pd\n",
    "\n",
    "df_tenant = pd.read_csv(\"Rent_status.csv\")\n",
    "\n",
    "print(df_tenant)\n",
    "\n",
    "#to display the payment status based on TENANT_ID here the status is already present only display the present values\n",
    "\n",
    "def display_payment_status():\n",
    "    tenant_id='TENANT1'\n",
    "    PAYMENT_STATUS = df_tenant.loc[df_tenant[\"tenant_id\"]==tenant_id,\"PAYMENT_STATUS\"]\n",
    "    print(\" PAYMENT_STATUS :\", PAYMENT_STATUS.values[0], \"for TENANT\", tenant_id)\n",
    "\n",
    "display_payment_status()\n",
    "\n",
    "\n",
    "    \n",
    "    "
   ]
  },
  {
   "cell_type": "code",
   "execution_count": null,
   "id": "b4db9fed-9d79-4e61-87dc-7a95a9ec4314",
   "metadata": {
    "tags": []
   },
   "outputs": [],
   "source": []
  },
  {
   "cell_type": "code",
   "execution_count": null,
   "id": "3b39c899-fd67-471f-9393-b0864c4ad5d7",
   "metadata": {},
   "outputs": [],
   "source": []
  }
 ],
 "metadata": {
  "kernelspec": {
   "display_name": "Python 3 (ipykernel)",
   "language": "python",
   "name": "python3"
  },
  "language_info": {
   "codemirror_mode": {
    "name": "ipython",
    "version": 3
   },
   "file_extension": ".py",
   "mimetype": "text/x-python",
   "name": "python",
   "nbconvert_exporter": "python",
   "pygments_lexer": "ipython3",
   "version": "3.11.3"
  }
 },
 "nbformat": 4,
 "nbformat_minor": 5
}
