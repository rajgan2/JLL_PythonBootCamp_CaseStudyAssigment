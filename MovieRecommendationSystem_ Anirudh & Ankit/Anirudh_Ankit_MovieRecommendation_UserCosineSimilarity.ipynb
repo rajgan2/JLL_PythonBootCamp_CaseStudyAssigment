{
  "nbformat": 4,
  "nbformat_minor": 0,
  "metadata": {
    "colab": {
      "provenance": []
    },
    "kernelspec": {
      "name": "python3",
      "display_name": "Python 3"
    },
    "language_info": {
      "name": "python"
    }
  },
  "cells": [
    {
      "cell_type": "code",
      "execution_count": null,
      "metadata": {
        "colab": {
          "base_uri": "https://localhost:8080/"
        },
        "id": "qe3hepY0NQ-K",
        "outputId": "ca9e98a0-c4f6-446b-8316-ca98d380707c"
      },
      "outputs": [
        {
          "output_type": "stream",
          "name": "stdout",
          "text": [
            "User Similarity Matrix:\n",
            "[[1.         0.50344727 0.42854912 0.         0.49557522 0.        ]\n",
            " [0.50344727 1.         0.56435099 0.         0.44051636 0.61845811]\n",
            " [0.42854912 0.56435099 1.         0.         0.         0.63173968]\n",
            " [0.         0.         0.         1.         0.56248283 0.36852275]\n",
            " [0.49557522 0.44051636 0.         0.56248283 1.         0.        ]\n",
            " [0.         0.61845811 0.63173968 0.36852275 0.         1.        ]]\n",
            "Movie_ID  101  102  103  104  105\n",
            "User_ID                          \n",
            "1         4.0  3.5  0.0  0.0  0.0\n",
            "2         4.5  0.0  5.0  0.0  0.0\n",
            "3         0.0  3.0  3.5  0.0  0.0\n",
            "4         0.0  0.0  0.0  4.0  4.5\n",
            "5         3.5  0.0  0.0  0.0  4.0\n",
            "6         0.0  0.0  4.5  3.0  0.0\n"
          ]
        }
      ],
      "source": [
        "import pandas as pd\n",
        "from sklearn.metrics.pairwise import cosine_similarity\n",
        "\n",
        "# Custom Sample Dataset\n",
        "ratings_data = {\n",
        "    'User_ID': [1, 1, 2, 2, 3, 3, 4, 4, 5, 5,6,6],\n",
        "    'Movie_ID': [101, 102, 101, 103, 102, 103, 104, 105, 101, 105, 104, 103],\n",
        "    'Rating': [4.0, 3.5, 4.5, 5.0, 3.0, 3.5, 4.0, 4.5, 3.5, 4.0, 3.0, 4.5]\n",
        "}\n",
        "ratings_df = pd.DataFrame(ratings_data)\n",
        "\n",
        "user_movie_matrix = ratings_df.pivot(index='User_ID', columns='Movie_ID', values='Rating').fillna(0) # fill null values with 0.\n",
        "\n",
        "user_similarity = cosine_similarity(user_movie_matrix)# cosine similarity between users\n",
        "\n",
        "# Display the user similarity matrix\n",
        "print(\"User Similarity Matrix:\")\n",
        "print(user_similarity)\n",
        "print(user_movie_matrix)\n"
      ]
    },
    {
      "cell_type": "code",
      "source": [
        "def recommend_movies(user_id, user_similarity, user_movie_matrix, top_n=10):\n",
        "    similar_users = user_similarity[user_id - 1]  # User id.\n",
        "    similar_users_indices = similar_users.argsort()[::-1][1:]  # Remove the user data, by desc order(cosine similarty value 1).\n",
        "    #print(similar_users_indices)\n",
        "    unseen_movies = set(user_movie_matrix.columns[user_movie_matrix.loc[user_id] == 0])\n",
        "\n",
        "    movie_scores = []\n",
        "    for movie_id in unseen_movies:\n",
        "        weighted_rating = 0\n",
        "        similarity_sum = 0\n",
        "        for sim_user_idx in similar_users_indices:\n",
        "            if user_movie_matrix.at[sim_user_idx + 1, movie_id] != 0:\n",
        "                weighted_rating += user_similarity[user_id - 1, sim_user_idx] * user_movie_matrix.at[sim_user_idx + 1, movie_id]\n",
        "                similarity_sum += user_similarity[user_id - 1, sim_user_idx]\n",
        "        if similarity_sum != 0:\n",
        "            movie_scores.append((movie_id, weighted_rating / similarity_sum))\n",
        "\n",
        "    movie_scores.sort(key=lambda x: x[1], reverse=True)\n",
        "    recommended_movies = [movie[0] for movie in movie_scores[:top_n]]\n",
        "\n",
        "    return recommended_movies\n",
        "\n",
        "\n"
      ],
      "metadata": {
        "colab": {
          "base_uri": "https://localhost:8080/"
        },
        "id": "JLNLmgejNclc",
        "outputId": "f2418e0c-1cc9-4390-f852-1649bb1e575e"
      },
      "execution_count": null,
      "outputs": [
        {
          "output_type": "stream",
          "name": "stdout",
          "text": [
            "Recommended movies for User 4: [103, 101]\n"
          ]
        }
      ]
    },
    {
      "cell_type": "markdown",
      "source": [
        "Recommendation for given user:"
      ],
      "metadata": {
        "id": "Vvn6I9mYSlZ6"
      }
    },
    {
      "cell_type": "code",
      "source": [
        "\n",
        "user_id = int(input(\"Please enter the user id (1 to 6)\"))\n",
        "recommended_movies = recommend_movies(user_id, user_similarity, user_movie_matrix)\n",
        "\n",
        "print(f\"Recommended movies for User {user_id}: {recommended_movies}\")"
      ],
      "metadata": {
        "colab": {
          "base_uri": "https://localhost:8080/"
        },
        "id": "VvzL1h3RQtPe",
        "outputId": "16cbae5b-64be-4191-acd7-50e5249da131"
      },
      "execution_count": null,
      "outputs": [
        {
          "output_type": "stream",
          "name": "stdout",
          "text": [
            "Please enter the user id (1 to 6)5\n",
            "Recommended movies for User 5: [103, 104, 102]\n"
          ]
        }
      ]
    },
    {
      "cell_type": "markdown",
      "source": [
        "Evaluation:"
      ],
      "metadata": {
        "id": "AStGnBluSi7E"
      }
    },
    {
      "cell_type": "code",
      "source": [
        "from sklearn.metrics import precision_score, recall_score, f1_score\n",
        "\n",
        "\n",
        "def evaluate_recommendations(test_user_ids, user_similarity, user_movie_matrix, top_n=5):\n",
        "    all_predicted = []\n",
        "    all_actual = []\n",
        "\n",
        "    for user_id in test_user_ids:\n",
        "        recommended_movies = recommend_movies(user_id, user_similarity, user_movie_matrix, top_n)\n",
        "        actual_movies = test_user_movie_matrix.loc[user_id][test_user_movie_matrix.loc[user_id] > 0].index.tolist()\n",
        "\n",
        "        all_predicted.append(recommended_movies)\n",
        "        all_actual.append(actual_movies)\n",
        "\n",
        "\n",
        "    all_predicted_flat = [movie for movies in all_predicted for movie in movies]\n",
        "    all_actual_flat = [movie for movies in all_actual for movie in movies]\n",
        "\n",
        "\n",
        "    precision = precision_score(all_actual, all_predicted, average='micro')\n",
        "    recall = recall_score(all_actual, all_predicted, average='micro')\n",
        "    f1 = f1_score(all_actual, all_predicted, average='micro')\n",
        "\n",
        "    return precision, recall, f1\n",
        "\n",
        "\n",
        "mean_precision, mean_recall, mean_f1 = evaluate_recommendations(test_user_ids, train_user_similarity, train_user_movie_matrix, top_n=5)\n",
        "\n",
        "print(f\"Mean Precision: {mean_precision:.4f}\")\n",
        "print(f\"Mean Recall: {mean_recall:.4f}\")\n",
        "print(f\"Mean F1-Score: {mean_f1:.4f}\")\n"
      ],
      "metadata": {
        "id": "QD5Nxwp-OOei"
      },
      "execution_count": null,
      "outputs": []
    },
    {
      "cell_type": "code",
      "source": [],
      "metadata": {
        "id": "R5gQ0A40NVTX"
      },
      "execution_count": null,
      "outputs": []
    }
  ]
}